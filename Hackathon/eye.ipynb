{
 "cells": [
  {
   "cell_type": "code",
   "execution_count": 1,
   "metadata": {},
   "outputs": [],
   "source": [
    "import numpy as np\n",
    "import os\n",
    "import imageio as iio\n",
    "import cv2\n",
    "from sklearn.model_selection import train_test_split\n",
    "from sklearn.metrics import confusion_matrix,classification_report\n",
    "import tensorflow as tf"
   ]
  },
  {
   "cell_type": "code",
   "execution_count": 2,
   "metadata": {},
   "outputs": [
    {
     "name": "stderr",
     "output_type": "stream",
     "text": [
      "C:\\Users\\Armaan\\AppData\\Local\\Temp\\ipykernel_26176\\3233163379.py:11: DeprecationWarning: Starting with ImageIO v3 the behavior of this function will switch to that of iio.v3.imread. To keep the current behavior (and make this warning disappear) use `import imageio.v2 as imageio` or call `imageio.v2.imread` directly.\n",
      "  image=np.array(iio.imread(imgPath))\n"
     ]
    }
   ],
   "source": [
    "n=0\n",
    "x=[]\n",
    "y=[]\n",
    "root1=\"C:/Users/Armaan/OneDrive/Desktop/Hackathon/dataset/eye/\"\n",
    "classes=os.listdir(root1)\n",
    "for class_ in classes:\n",
    "    path1=root1+class_+\"/\"\n",
    "    images1=os.listdir(path1)\n",
    "    for img in images1:\n",
    "        imgPath=path1+img\n",
    "        image=np.array(iio.imread(imgPath))\n",
    "        if(len(list(image.shape))==3):\n",
    "            image=cv2.cvtColor(image,cv2.COLOR_BGR2GRAY)\n",
    "        image = cv2.resize(image,(256,256))\n",
    "        x.append(image/255)\n",
    "        y.append(n)\n",
    "    n+=1"
   ]
  },
  {
   "cell_type": "code",
   "execution_count": 3,
   "metadata": {},
   "outputs": [],
   "source": [
    "x=np.array(x)\n",
    "y=np.array(y)"
   ]
  },
  {
   "cell_type": "code",
   "execution_count": 4,
   "metadata": {},
   "outputs": [],
   "source": [
    "x_train,x_test,y_train,y_test=train_test_split(x,y,random_state=0,shuffle=True)"
   ]
  },
  {
   "cell_type": "code",
   "execution_count": 30,
   "metadata": {},
   "outputs": [],
   "source": [
    "x_test,x_val,y_test,y_val=train_test_split(x_test,y_test,shuffle=True,test_size=0.5)"
   ]
  },
  {
   "cell_type": "code",
   "execution_count": 9,
   "metadata": {},
   "outputs": [],
   "source": [
    "model=tf.keras.Sequential([\n",
    "    tf.keras.layers.Conv2D(32,(3,3),activation=\"relu\",input_shape=(256,256,1)),    \n",
    "    tf.keras.layers.MaxPooling2D(),\n",
    "    tf.keras.layers.Conv2D(64,(3,3),activation=\"relu\"),\n",
    "    tf.keras.layers.MaxPooling2D(),\n",
    "    tf.keras.layers.Conv2D(64,(3,3),activation=\"relu\"),\n",
    "    tf.keras.layers.MaxPooling2D(),\n",
    "    # tf.keras.layers.Conv2D(64,(3,3),activation=\"relu\"),\n",
    "    # tf.keras.layers.MaxPooling2D(),\n",
    "    tf.keras.layers.Flatten(),\n",
    "    tf.keras.layers.Dense(64,activation=\"relu\"),\n",
    "    # tf.keras.layers.Dense(48,activation=\"relu\"),\n",
    "    tf.keras.layers.Dense(32,activation=\"relu\"),\n",
    "    tf.keras.layers.Dense(4,activation=\"sigmoid\")\n",
    "])\n",
    "model.compile(optimizer=tf.optimizers.Adam(learning_rate=0.01),loss=tf.losses.CategoricalCrossentropy(),metrics=[\"accuracy\"])"
   ]
  },
  {
   "cell_type": "code",
   "execution_count": 13,
   "metadata": {},
   "outputs": [
    {
     "name": "stdout",
     "output_type": "stream",
     "text": [
      "Epoch 1/10\n",
      "99/99 [==============================] - 141s 1s/step - loss: 0.6891 - accuracy: 0.6717\n",
      "Epoch 2/10\n",
      "99/99 [==============================] - 145s 1s/step - loss: 0.6491 - accuracy: 0.6951\n",
      "Epoch 3/10\n",
      "99/99 [==============================] - 145s 1s/step - loss: 0.6348 - accuracy: 0.7037\n",
      "Epoch 4/10\n",
      "99/99 [==============================] - 130s 1s/step - loss: 0.6267 - accuracy: 0.7122\n",
      "Epoch 5/10\n",
      "99/99 [==============================] - 122s 1s/step - loss: 0.6169 - accuracy: 0.7090\n",
      "Epoch 6/10\n",
      "99/99 [==============================] - 142s 1s/step - loss: 0.5925 - accuracy: 0.7242\n",
      "Epoch 7/10\n",
      "99/99 [==============================] - 163s 2s/step - loss: 0.6008 - accuracy: 0.7230\n",
      "Epoch 8/10\n",
      "99/99 [==============================] - 115s 1s/step - loss: 0.5912 - accuracy: 0.7214\n",
      "Epoch 9/10\n",
      "99/99 [==============================] - 103s 1s/step - loss: 0.5962 - accuracy: 0.7255\n",
      "Epoch 10/10\n",
      "99/99 [==============================] - 112s 1s/step - loss: 0.5773 - accuracy: 0.7274\n"
     ]
    },
    {
     "data": {
      "text/plain": [
       "<keras.callbacks.History at 0x22cc5f9fbb0>"
      ]
     },
     "execution_count": 13,
     "metadata": {},
     "output_type": "execute_result"
    }
   ],
   "source": [
    "model.fit(x_train,tf.one_hot(y_train,depth=4),shuffle=True,epochs=10)#,validation_data=(x_val,tf.one_hot(y_val,depth=4))"
   ]
  },
  {
   "cell_type": "code",
   "execution_count": 14,
   "metadata": {},
   "outputs": [
    {
     "name": "stdout",
     "output_type": "stream",
     "text": [
      "33/33 [==============================] - 13s 393ms/step - loss: 0.4470 - accuracy: 0.8607\n"
     ]
    },
    {
     "data": {
      "text/plain": [
       "[0.4469672739505768, 0.8606635332107544]"
      ]
     },
     "execution_count": 14,
     "metadata": {},
     "output_type": "execute_result"
    }
   ],
   "source": [
    "model2.evaluate(x_test,tf.one_hot(y_test,depth=4))"
   ]
  },
  {
   "cell_type": "code",
   "execution_count": 6,
   "metadata": {},
   "outputs": [],
   "source": [
    "model2=tf.keras.models.load_model(\"eyeModel2.h5\") #0.86066"
   ]
  },
  {
   "cell_type": "code",
   "execution_count": 19,
   "metadata": {},
   "outputs": [],
   "source": [
    "model.save(\"eyeModel.h5\")"
   ]
  },
  {
   "cell_type": "code",
   "execution_count": 15,
   "metadata": {},
   "outputs": [
    {
     "name": "stdout",
     "output_type": "stream",
     "text": [
      "33/33 [==============================] - 11s 320ms/step\n"
     ]
    },
    {
     "data": {
      "text/plain": [
       "array([[236,   0,  19,  20],\n",
       "       [ 32, 243,   0,   0],\n",
       "       [ 29,   0, 153,  59],\n",
       "       [  6,   0,  12, 246]], dtype=int64)"
      ]
     },
     "execution_count": 15,
     "metadata": {},
     "output_type": "execute_result"
    }
   ],
   "source": [
    "ypred=tf.argmax(model2.predict(x_test),axis=1)\n",
    "confusion_matrix(y_test,ypred)"
   ]
  }
 ],
 "metadata": {
  "kernelspec": {
   "display_name": "tf",
   "language": "python",
   "name": "python3"
  },
  "language_info": {
   "codemirror_mode": {
    "name": "ipython",
    "version": 3
   },
   "file_extension": ".py",
   "mimetype": "text/x-python",
   "name": "python",
   "nbconvert_exporter": "python",
   "pygments_lexer": "ipython3",
   "version": "3.10.11"
  },
  "orig_nbformat": 4
 },
 "nbformat": 4,
 "nbformat_minor": 2
}
