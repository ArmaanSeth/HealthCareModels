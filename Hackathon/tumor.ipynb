{
 "cells": [
  {
   "cell_type": "code",
   "execution_count": 2,
   "metadata": {},
   "outputs": [],
   "source": [
    "import numpy as np\n",
    "import os\n",
    "import imageio as iio\n",
    "import cv2\n",
    "from sklearn.model_selection import train_test_split\n",
    "from sklearn.metrics import confusion_matrix,classification_report\n",
    "import tensorflow as tf"
   ]
  },
  {
   "cell_type": "code",
   "execution_count": 3,
   "metadata": {},
   "outputs": [
    {
     "data": {
      "text/plain": [
       "'2.12.0'"
      ]
     },
     "execution_count": 3,
     "metadata": {},
     "output_type": "execute_result"
    }
   ],
   "source": [
    "tf.__version__"
   ]
  },
  {
   "cell_type": "code",
   "execution_count": 4,
   "metadata": {},
   "outputs": [
    {
     "name": "stderr",
     "output_type": "stream",
     "text": [
      "C:\\Users\\Armaan\\AppData\\Local\\Temp\\ipykernel_26836\\3194111005.py:16: DeprecationWarning: Starting with ImageIO v3 the behavior of this function will switch to that of iio.v3.imread. To keep the current behavior (and make this warning disappear) use `import imageio.v2 as imageio` or call `imageio.v2.imread` directly.\n",
      "  image=np.array(iio.imread(imgPath))\n",
      "C:\\Users\\Armaan\\AppData\\Local\\Temp\\ipykernel_26836\\3194111005.py:25: DeprecationWarning: Starting with ImageIO v3 the behavior of this function will switch to that of iio.v3.imread. To keep the current behavior (and make this warning disappear) use `import imageio.v2 as imageio` or call `imageio.v2.imread` directly.\n",
      "  image=np.array(iio.imread(imgPath))\n"
     ]
    }
   ],
   "source": [
    "n=0\n",
    "xTest=[]\n",
    "xTrain=[]\n",
    "yTest=[]\n",
    "yTrain=[]\n",
    "root1=\"C:/Users/Armaan/OneDrive/Desktop/Hackathon/dataset/braintumor/testing/\"\n",
    "root2=\"C:/Users/Armaan/OneDrive/Desktop/Hackathon/dataset/braintumor/training/\"\n",
    "classes=os.listdir(root1)\n",
    "for class_ in classes:\n",
    "    path1=root1+class_+\"/\"\n",
    "    path2=root2+class_+\"/\"\n",
    "    images1=os.listdir(path1)\n",
    "    images2=os.listdir(path2)\n",
    "    for img in images1:\n",
    "        imgPath=path1+img\n",
    "        image=np.array(iio.imread(imgPath))\n",
    "        if(len(list(image.shape))==3):\n",
    "            image=cv2.cvtColor(image,cv2.COLOR_BGR2GRAY)\n",
    "        # if([512,512]!=list(image.shape)):\n",
    "        image = cv2.resize(image,(256,256))\n",
    "        xTest.append(image/255)\n",
    "        yTest.append(n)\n",
    "    for img in images2:\n",
    "        imgPath=path2+img\n",
    "        image=np.array(iio.imread(imgPath))\n",
    "        if(len(list(image.shape))==3):\n",
    "            image=cv2.cvtColor(image,cv2.COLOR_BGR2GRAY)\n",
    "        # if([512,512]!=list(image.shape)):\n",
    "        image = cv2.resize(image,(256,256))\n",
    "        xTrain.append(image/255)\n",
    "        yTrain.append(n)\n",
    "    n+=1"
   ]
  },
  {
   "cell_type": "code",
   "execution_count": 5,
   "metadata": {},
   "outputs": [],
   "source": [
    "xTrain=np.array(xTrain)\n",
    "xTest=np.array(xTest)\n",
    "yTrain=np.array(yTrain)\n",
    "yTest=np.array(yTest)"
   ]
  },
  {
   "cell_type": "code",
   "execution_count": null,
   "metadata": {},
   "outputs": [],
   "source": [
    "xTrain.shape"
   ]
  },
  {
   "cell_type": "code",
   "execution_count": null,
   "metadata": {},
   "outputs": [],
   "source": [
    "yTrain.shape"
   ]
  },
  {
   "cell_type": "code",
   "execution_count": 8,
   "metadata": {},
   "outputs": [],
   "source": [
    "model=tf.keras.Sequential([\n",
    "    tf.keras.layers.Conv2D(32,(3,3),activation=\"relu\",input_shape=(256,256,1)),    \n",
    "    tf.keras.layers.MaxPooling2D(),\n",
    "    tf.keras.layers.Conv2D(64,(3,3),activation=\"relu\"),\n",
    "    tf.keras.layers.MaxPooling2D(),\n",
    "    tf.keras.layers.Conv2D(64,(3,3),activation=\"relu\"),\n",
    "    tf.keras.layers.MaxPooling2D(),\n",
    "    tf.keras.layers.Flatten(),\n",
    "    tf.keras.layers.Dense(48,activation=\"relu\"),\n",
    "    tf.keras.layers.Dense(32,activation=\"relu\"),\n",
    "    tf.keras.layers.Dense(4,activation=\"sigmoid\")\n",
    "])\n",
    "model.compile(optimizer=tf.optimizers.Adam(),loss=tf.losses.CategoricalCrossentropy(),metrics=[\"accuracy\"])"
   ]
  },
  {
   "cell_type": "code",
   "execution_count": 11,
   "metadata": {},
   "outputs": [
    {
     "name": "stdout",
     "output_type": "stream",
     "text": [
      "Epoch 1/5\n",
      "179/179 [==============================] - 260s 1s/step - loss: 0.0488 - accuracy: 0.9842\n",
      "Epoch 2/5\n",
      "179/179 [==============================] - 237s 1s/step - loss: 0.0257 - accuracy: 0.9921\n",
      "Epoch 3/5\n",
      "179/179 [==============================] - 254s 1s/step - loss: 0.0169 - accuracy: 0.9946\n",
      "Epoch 4/5\n",
      "179/179 [==============================] - 241s 1s/step - loss: 0.0432 - accuracy: 0.9856\n",
      "Epoch 5/5\n",
      "179/179 [==============================] - 244s 1s/step - loss: 0.0284 - accuracy: 0.9909\n"
     ]
    },
    {
     "data": {
      "text/plain": [
       "<keras.callbacks.History at 0x2b257b3d390>"
      ]
     },
     "execution_count": 11,
     "metadata": {},
     "output_type": "execute_result"
    }
   ],
   "source": [
    "model.fit(xTrain,tf.one_hot(yTrain,depth=4),shuffle=True,epochs=5)"
   ]
  },
  {
   "cell_type": "code",
   "execution_count": 14,
   "metadata": {},
   "outputs": [
    {
     "name": "stdout",
     "output_type": "stream",
     "text": [
      "41/41 [==============================] - 24s 566ms/step - loss: 0.1643 - accuracy: 0.9512\n"
     ]
    },
    {
     "data": {
      "text/plain": [
       "[0.16434839367866516, 0.9511823058128357]"
      ]
     },
     "execution_count": 14,
     "metadata": {},
     "output_type": "execute_result"
    }
   ],
   "source": [
    "model.evaluate(xTest,tf.one_hot(yTest,depth=4))"
   ]
  },
  {
   "cell_type": "code",
   "execution_count": null,
   "metadata": {},
   "outputs": [],
   "source": [
    "# model.save(\"tumorModel.h5\")"
   ]
  },
  {
   "cell_type": "code",
   "execution_count": null,
   "metadata": {},
   "outputs": [],
   "source": [
    "yPred=model.predict(xTest)"
   ]
  },
  {
   "cell_type": "code",
   "execution_count": null,
   "metadata": {},
   "outputs": [],
   "source": [
    "ypred=np.argmax(yPred,axis=1)"
   ]
  },
  {
   "cell_type": "code",
   "execution_count": null,
   "metadata": {},
   "outputs": [],
   "source": [
    "confusion_matrix(yTest,ypred)"
   ]
  },
  {
   "cell_type": "code",
   "execution_count": null,
   "metadata": {},
   "outputs": [],
   "source": [
    "print(classification_report(yTest,ypred))"
   ]
  },
  {
   "cell_type": "code",
   "execution_count": null,
   "metadata": {},
   "outputs": [],
   "source": [
    "model2=tf.keras.models.load_model(\"tumorModel.h5\")"
   ]
  },
  {
   "cell_type": "code",
   "execution_count": null,
   "metadata": {},
   "outputs": [],
   "source": [
    "import tensorflowjs"
   ]
  }
 ],
 "metadata": {
  "kernelspec": {
   "display_name": "tf",
   "language": "python",
   "name": "python3"
  },
  "language_info": {
   "codemirror_mode": {
    "name": "ipython",
    "version": 3
   },
   "file_extension": ".py",
   "mimetype": "text/x-python",
   "name": "python",
   "nbconvert_exporter": "python",
   "pygments_lexer": "ipython3",
   "version": "3.10.11"
  },
  "orig_nbformat": 4
 },
 "nbformat": 4,
 "nbformat_minor": 2
}
